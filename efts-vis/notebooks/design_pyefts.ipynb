{
 "cells": [
  {
   "cell_type": "code",
   "execution_count": null,
   "metadata": {},
   "outputs": [],
   "source": [
    "import xarray as xr\n",
    "\n",
    "import cftime"
   ]
  },
  {
   "cell_type": "code",
   "execution_count": null,
   "metadata": {},
   "outputs": [],
   "source": [
    "import pandas as pd\n",
    "import numpy as np\n"
   ]
  },
  {
   "cell_type": "code",
   "execution_count": null,
   "metadata": {},
   "outputs": [],
   "source": [
    "from efts_io.data_wrapper import *"
   ]
  },
  {
   "cell_type": "markdown",
   "metadata": {},
   "source": [
    "Note if without options:\n",
    "\n",
    "`ValueError: unable to decode time units 'days since time' with 'the default calendar'. Try opening your dataset with decode_times=False or installing cftime if it is not installed.`\n",
    "\n",
    "Is this something we can fix, either because of `efts` or is this an STF convention issue?\n"
   ]
  },
  {
   "cell_type": "code",
   "execution_count": null,
   "metadata": {},
   "outputs": [],
   "source": [
    "def _byte_array_to_string(x:np.ndarray):\n",
    "    return ''.join([str(s, encoding='UTF-8') for s in x])\n",
    "\n",
    "def _byte_stations_to_str(byte_names:np.ndarray):\n",
    "    return np.array([_byte_array_to_string(x) for x in byte_names])\n",
    "\n",
    "\n",
    "def _cftime_to_pdtstamp(t):\n",
    "    return pd.Timestamp(t.isoformat())\n",
    "\n",
    "_ats = np.vectorize(_cftime_to_pdtstamp)\n",
    "\n",
    "def cftimes_to_pdtstamps(cftimes):\n",
    "    return _ats(cftimes)\n",
    "    \n",
    "TIME_DIMNAME = 'time'\n",
    "\n",
    "stations_dim_name = \"station\"\n",
    "lead_time_dim_name = \"lead_time\"\n",
    "time_dim_name = \"time\"\n",
    "ensemble_member_dim_name = \"ens_member\"\n",
    "str_length_dim_name = \"str_len\"\n",
    "\n",
    "# int station_id[station]   \n",
    "station_id_varname = \"station_id\"\n",
    "# char station_name[str_len,station]   \n",
    "station_name_varname = \"station_name\"\n",
    "# float lat[station]   \n",
    "lat_varname = \"lat\"\n",
    "# float lon[station]   \n",
    "lon_varname = \"lon\"\n",
    "# float x[station]   \n",
    "x_varname = \"x\"\n",
    "# float y[station]   \n",
    "y_varname = \"y\"\n",
    "# float area[station]   \n",
    "area_varname = \"area\"\n",
    "# float elevation[station]   \n",
    "elevation_varname = \"elevation\"\n",
    "\n",
    "conventional_varnames = [\n",
    "  stations_dim_name ,\n",
    "  lead_time_dim_name ,\n",
    "  time_dim_name ,\n",
    "  ensemble_member_dim_name ,\n",
    "  str_length_dim_name ,\n",
    "  station_id_varname ,\n",
    "  station_name_varname ,\n",
    "  lat_varname ,\n",
    "  lon_varname ,\n",
    "  x_varname ,\n",
    "  y_varname ,\n",
    "  area_varname ,\n",
    "  elevation_varname\n",
    "]\n",
    "\n",
    "mandatory_global_attributes = [\"title\", \"institution\", \"source\", \"catchment\", \"comment\"]\n",
    "\n",
    "def get_default_dim_order():\n",
    "    return [lead_time_dim_name, stations_dim_name, ensemble_member_dim_name, time_dim_name]\n",
    "\n"
   ]
  },
  {
   "cell_type": "code",
   "execution_count": null,
   "metadata": {},
   "outputs": [],
   "source": [
    "# streamflow_ds = xr.open_dataset('/home/per202/data/rrml/HWS_streamflow.nc', decode_times=False)\n",
    "\n",
    "# streamflow_ds\n",
    "\n",
    "# streamflow_ds.q_obs.shape\n",
    "\n",
    "# streamflow_ds.q_obs[:,123].plot()\n",
    "\n",
    "# streamflow_ds.station_name.values.dtype\n",
    "\n",
    "# x = streamflow_ds.station_name.values[123,:].ravel()\n",
    "\n",
    "# streamflow_ds\n",
    "\n",
    "# def byte_array_to_string(x):\n",
    "#     return ''.join([str(s, encoding='UTF-8') for s in x])"
   ]
  },
  {
   "cell_type": "code",
   "execution_count": null,
   "metadata": {},
   "outputs": [],
   "source": [
    "fn = '/home/per202/src/github_jm/efts-python/efts-io/tests/data/hourly_test.nc'\n",
    "ds = EftsDataSet(fn)"
   ]
  },
  {
   "cell_type": "code",
   "execution_count": null,
   "metadata": {},
   "outputs": [],
   "source": [
    "x = ds.data"
   ]
  },
  {
   "cell_type": "code",
   "execution_count": null,
   "metadata": {},
   "outputs": [],
   "source": [
    "x"
   ]
  },
  {
   "cell_type": "code",
   "execution_count": null,
   "metadata": {},
   "outputs": [],
   "source": [
    "fn = '/home/per202/src/github_jm/efts/inst/extdata/Upper_Murray_sample_rain.nc'\n",
    "# efts R reports for the above file:=\n",
    "# : [1] \"vobjtovarid4: **** WARNING **** I was asked to get a varid for dimension named station BUT this dimension HAS NO DIMVAR! Code will probably fail at this point\"\n",
    "# Use instead:\n",
    "fn = '/home/per202/data/rrml/HWS_streamflow.nc'\n",
    "ds = EftsDataSet(fn)"
   ]
  },
  {
   "cell_type": "code",
   "execution_count": null,
   "metadata": {},
   "outputs": [],
   "source": [
    "ds.get_variable_names()"
   ]
  },
  {
   "cell_type": "code",
   "execution_count": null,
   "metadata": {},
   "outputs": [],
   "source": [
    "# ds.get_values(None)\n",
    "ds.data.q_obs"
   ]
  },
  {
   "cell_type": "code",
   "execution_count": null,
   "metadata": {},
   "outputs": [],
   "source": [
    "ds.get_all_series('q_obs')"
   ]
  },
  {
   "cell_type": "code",
   "execution_count": null,
   "metadata": {},
   "outputs": [],
   "source": [
    "ds.data.station_name"
   ]
  },
  {
   "cell_type": "code",
   "execution_count": null,
   "metadata": {},
   "outputs": [],
   "source": [
    "stations_dim_name = \"station\"\n",
    "lead_time_dim_name = \"lead_time\"\n",
    "time_dim_name = \"time\"\n",
    "ensemble_member_dim_name = \"ens_member\"\n",
    "str_length_dim_name = \"str_len\"\n",
    "\n",
    "# int station_id[station]   \n",
    "station_id_varname = \"station_id\"\n",
    "# char station_name[str_len,station]   \n",
    "station_name_varname = \"station_name\"\n",
    "# float lat[station]   \n",
    "lat_varname = \"lat\"\n",
    "# float lon[station]   \n",
    "lon_varname = \"lon\"\n",
    "# float x[station]   \n",
    "x_varname = \"x\"\n",
    "# float y[station]   \n",
    "y_varname = \"y\"\n",
    "# float area[station]   \n",
    "area_varname = \"area\"\n",
    "# float elevation[station]   \n",
    "elevation_varname = \"elevation\"\n",
    "\n",
    "conventional_varnames = [\n",
    "  stations_dim_name ,\n",
    "  lead_time_dim_name ,\n",
    "  time_dim_name ,\n",
    "  ensemble_member_dim_name ,\n",
    "  str_length_dim_name ,\n",
    "  station_id_varname ,\n",
    "  station_name_varname ,\n",
    "  lat_varname ,\n",
    "  lon_varname ,\n",
    "  x_varname ,\n",
    "  y_varname ,\n",
    "  area_varname ,\n",
    "  elevation_varname\n",
    "]\n",
    "fn"
   ]
  },
  {
   "cell_type": "code",
   "execution_count": null,
   "metadata": {},
   "outputs": [],
   "source": [
    "ds.get_all_series('q_obs')"
   ]
  },
  {
   "cell_type": "code",
   "execution_count": null,
   "metadata": {},
   "outputs": [],
   "source": [
    "ds.data.dims"
   ]
  },
  {
   "cell_type": "code",
   "execution_count": null,
   "metadata": {},
   "outputs": [],
   "source": [
    "ds.data.station.values"
   ]
  },
  {
   "cell_type": "code",
   "execution_count": null,
   "metadata": {},
   "outputs": [],
   "source": [
    "ds.data"
   ]
  },
  {
   "cell_type": "code",
   "execution_count": null,
   "metadata": {},
   "outputs": [],
   "source": []
  }
 ],
 "metadata": {
  "kernelspec": {
   "display_name": "pt",
   "language": "python",
   "name": "pt"
  },
  "language_info": {
   "codemirror_mode": {
    "name": "ipython",
    "version": 3
   },
   "file_extension": ".py",
   "mimetype": "text/x-python",
   "name": "python",
   "nbconvert_exporter": "python",
   "pygments_lexer": "ipython3",
   "version": "3.8.6"
  }
 },
 "nbformat": 4,
 "nbformat_minor": 4
}
