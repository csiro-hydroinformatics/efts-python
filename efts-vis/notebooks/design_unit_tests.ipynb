{
 "cells": [
  {
   "cell_type": "code",
   "execution_count": null,
   "metadata": {},
   "outputs": [],
   "source": [
    "import xarray as xr\n",
    "import cftime"
   ]
  },
  {
   "cell_type": "code",
   "execution_count": null,
   "metadata": {},
   "outputs": [],
   "source": [
    "import pandas as pd\n",
    "import numpy as np"
   ]
  },
  {
   "cell_type": "code",
   "execution_count": null,
   "metadata": {},
   "outputs": [],
   "source": [
    "# %matplotlib notebook\n",
    "%matplotlib inline"
   ]
  },
  {
   "cell_type": "code",
   "execution_count": null,
   "metadata": {},
   "outputs": [],
   "source": [
    "from efts_io.data_wrapper import *\n",
    "from efts_io.attributes import *\n",
    "from efts_io.conventions import *\n",
    "from efts_io.exported_functions import *\n",
    "from efts_io._internals import *\n",
    "from efts_io.time_dimensions import *\n",
    "from efts_io.variables import *"
   ]
  },
  {
   "cell_type": "code",
   "execution_count": null,
   "metadata": {},
   "outputs": [],
   "source": [
    "from efts_vis.gv import *"
   ]
  },
  {
   "cell_type": "code",
   "execution_count": null,
   "metadata": {},
   "outputs": [],
   "source": [
    "variable_names = [\"variable_1\", \"variable_2\"]\n",
    "stations_ids = [123, 456]\n",
    "\n",
    "nEns = 3\n",
    "nLead = 4\n",
    "x = np.arange(1, (nEns * nLead) + 1)\n",
    "x = x.reshape((nLead, nEns))\n",
    "y = x + nEns * nLead\n",
    "import datetime\n",
    "\n",
    "timeAxisStart = pd.Timestamp(year = 2010, month = 8, day = 1, hour = 12, minute = 0, \n",
    "  second = 0, tz= 'UTC')\n",
    "tested_fcast_issue_time = timeAxisStart + pd.Timedelta(6,'h')\n",
    "v1 = variable_names[0]\n",
    "s1 = stations_ids[0]\n",
    "v2 = variable_names[1]\n",
    "s2 = stations_ids[1]\n",
    "\n",
    "\n",
    "def dhours(i):\n",
    "    return pd.Timedelta(i,'h')\n",
    "def ddays(i):\n",
    "    return pd.Timedelta(i * 24,'h')"
   ]
  },
  {
   "cell_type": "code",
   "execution_count": null,
   "metadata": {},
   "outputs": [],
   "source": [
    "tempNcFname = '/home/per202/tmp/blah.nc'\n",
    "lead_time_tstep = \"hours\"\n",
    "time_step = \"hours since\"\n",
    "time_step_delta = 1\n",
    "lead_time_step_start_offset = 1\n",
    "lead_time_step_delta = 1"
   ]
  },
  {
   "cell_type": "code",
   "execution_count": null,
   "metadata": {},
   "outputs": [],
   "source": [
    "case_params = ''.join([\"lts=\", lead_time_tstep, \",ts=\", time_step, \",tsdelta=\", str(time_step_delta), \",ltsoffset=\", str(lead_time_step_start_offset), \",ltsdelta=\", str(lead_time_step_delta)])\n",
    "\n",
    "time_dim_info = create_time_info(start = timeAxisStart, n = 10, time_step = time_step, time_step_delta = time_step_delta)"
   ]
  },
  {
   "cell_type": "code",
   "execution_count": null,
   "metadata": {},
   "outputs": [],
   "source": [
    "time_dim_info"
   ]
  },
  {
   "cell_type": "code",
   "execution_count": null,
   "metadata": {},
   "outputs": [],
   "source": [
    "n = len(variable_names)\n",
    "varsDef = pd.DataFrame.from_dict(\n",
    "    {\n",
    "        'name' : variable_names,\n",
    "        'longname' : [\"long name for \" + name for name in variable_names],\n",
    "        'units' : np.repeat(\"mm\", n),\n",
    "        'missval' : np.repeat(-999, n),\n",
    "        'precision' : np.repeat(\"double\", n),\n",
    "        'type' : np.repeat(2, n),\n",
    "        'dimensions' : np.repeat(\"4\", n),\n",
    "        'type_description' : np.repeat(\"accumulated over the previous time step\", n),\n",
    "        'location_type' : np.repeat(\"Point\", n),\n",
    "    }    \n",
    ")\n",
    "glob_attr = create_global_attributes(title=\"title test\", institution=\"test\", source=\"test\", catchment=\"dummy\", comment=\"none\")"
   ]
  },
  {
   "cell_type": "code",
   "execution_count": null,
   "metadata": {},
   "outputs": [],
   "source": [
    "glob_attr"
   ]
  },
  {
   "cell_type": "code",
   "execution_count": null,
   "metadata": {},
   "outputs": [],
   "source": [
    "data_var_definitions = create_variable_definitions(varsDef)"
   ]
  },
  {
   "cell_type": "code",
   "execution_count": null,
   "metadata": {},
   "outputs": [],
   "source": [
    "data_var_definitions[0]"
   ]
  },
  {
   "cell_type": "code",
   "execution_count": null,
   "metadata": {},
   "outputs": [],
   "source": [
    "station_names:List[str]=None\n",
    "nc_attributes:Dict[str,str]=None\n",
    "optional_vars=None\n",
    "lead_length = 48\n",
    "ensemble_length = 50\n",
    "lead_time_tstep = \"hours\"\n",
    "        "
   ]
  },
  {
   "cell_type": "code",
   "execution_count": null,
   "metadata": {},
   "outputs": [],
   "source": [
    "varDefs = create_efts_variables(data_var_definitions, \n",
    "                                time_dim_info, \n",
    "                                num_stations = len(stations_ids), \n",
    "                                lead_length = lead_length, \n",
    "                                ensemble_length = ensemble_length,\n",
    "                                optional_vars = optional_vars,\n",
    "                                lead_time_tstep = lead_time_tstep)"
   ]
  },
  {
   "cell_type": "code",
   "execution_count": null,
   "metadata": {},
   "outputs": [],
   "source": [
    "varDefs['metadatavars']['station_names_var']"
   ]
  },
  {
   "cell_type": "code",
   "execution_count": null,
   "metadata": {},
   "outputs": [],
   "source": [
    "snc = create_efts(tempNcFname, time_dim_info, create_variable_definitions(varsDef), \n",
    "  stations_ids, nc_attributes=glob_attr, lead_length = nLead, ensemble_length = nEns, lead_time_tstep=lead_time_tstep)\n",
    "lead_times_offsets = np.arange(lead_time_step_start_offset, lead_time_step_start_offset+nLead) * lead_time_step_delta "
   ]
  },
  {
   "cell_type": "code",
   "execution_count": null,
   "metadata": {},
   "outputs": [],
   "source": [
    "def as_naive_timestamp(d):\n",
    "    return pd.Timestamp(year=d.year, month=d.month, day = d.day, hour=d.hour, minute=d.minute, second=d.second)\n"
   ]
  },
  {
   "cell_type": "code",
   "execution_count": null,
   "metadata": {},
   "outputs": [],
   "source": [
    "as_naive_timestamp(timeAxisStart)"
   ]
  },
  {
   "cell_type": "code",
   "execution_count": null,
   "metadata": {},
   "outputs": [],
   "source": []
  }
 ],
 "metadata": {
  "kernelspec": {
   "display_name": "Py3 wqml",
   "language": "python",
   "name": "wqml"
  },
  "language_info": {
   "codemirror_mode": {
    "name": "ipython",
    "version": 3
   },
   "file_extension": ".py",
   "mimetype": "text/x-python",
   "name": "python",
   "nbconvert_exporter": "python",
   "pygments_lexer": "ipython3",
   "version": "3.8.5"
  }
 },
 "nbformat": 4,
 "nbformat_minor": 4
}
